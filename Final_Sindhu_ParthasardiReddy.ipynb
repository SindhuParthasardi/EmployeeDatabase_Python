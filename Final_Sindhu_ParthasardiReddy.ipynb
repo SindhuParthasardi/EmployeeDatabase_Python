{
 "cells": [
  {
   "cell_type": "code",
   "execution_count": 73,
   "metadata": {},
   "outputs": [],
   "source": [
    "#defining Vehicle class here\n",
    "\n",
    "class Vehicle:\n",
    "    def __init__(self, vmk, vmd, vy, vml):\n",
    "        self.__make = vmk\n",
    "        self.__model = vmd\n",
    "        self.__year = vy\n",
    "        self.__mileage = vml\n",
    "\n",
    "    def get_make(self):\n",
    "        return self.__make\n",
    "\n",
    "    def get_model(self):\n",
    "        return self.__model\n",
    "\n",
    "    def get_year(self):\n",
    "        return self.__year\n",
    "\n",
    "    def get_mileage(self):\n",
    "        return self.__mileage\n",
    "\n",
    "    def set_make(self, vmk):\n",
    "        self.__make = vmk\n",
    "\n",
    "    def set_model(self, vmd):\n",
    "        self.__model = vmd\n",
    "\n",
    "    def set_year(self, vy):\n",
    "        self.__year = vy\n",
    "\n",
    "    def set_mileage(self, vml):\n",
    "        self.__mileage = vml\n",
    "\n",
    "    def __str__(self):\n",
    "        return \"Make: \" + self.__make + \"; Model: \" + self.__model + \"; Year of Manufacture: \" + str(self.__year) + \"; Mileage: \" + str(self.__mileage)\n"
   ]
  },
  {
   "cell_type": "code",
   "execution_count": 74,
   "metadata": {},
   "outputs": [
    {
     "name": "stdout",
     "output_type": "stream",
     "text": [
      "Make: Honda; Model: Civic; Year of Manufacture: 2014; Mileage: 50000\n",
      "The mileage of this vehicle is: 50000\n",
      "The year of manufacture of this vehicle is: 2012\n"
     ]
    }
   ],
   "source": [
    "vehicle1=Vehicle(\"Honda\",\"Civic\",2014,50000)\n",
    "print(vehicle1)\n",
    "print(\"The mileage of this vehicle is:\", vehicle1.get_mileage())\n",
    "vehicle1.set_year(2012)\n",
    "print(\"The year of manufacture of this vehicle is:\", vehicle1.get_year())"
   ]
  },
  {
   "cell_type": "code",
   "execution_count": 79,
   "metadata": {},
   "outputs": [],
   "source": [
    "#defining Employee class here\n",
    "\n",
    "class Employee:\n",
    "    def __init__(self, nm, addr, veh):\n",
    "        self.__emp_name = nm\n",
    "        self.__emp_addr = addr\n",
    "        self.__vehicle = veh\n",
    "    def get_emp_name(self):\n",
    "        return self.__emp_name\n",
    "    def get_emp_addr(self):\n",
    "        return self.__emp_addr\n",
    "    def get_vehicle(self):\n",
    "        return self.__vehicle\n",
    "    def set_emp_name(self, nm):\n",
    "        self.__emp_name = nm\n",
    "    def set_emp_addr(self, addr):\n",
    "        self.__emp_addr = addr\n",
    "    def set_vehicle(self, veh):\n",
    "        self.__vehicle = veh\n",
    "    def compute_compensation(self):\n",
    "        pass\n",
    "    def __str__(self):\n",
    "        allData = \"\\nEmployee Name: \" + self.__emp_name\n",
    "        allData += \"; Employee Address: \" + str(self.__emp_addr)\n",
    "        allData +=  \"\\n\" + self.__vehicle.__str__()\n",
    "        return allData\n",
    "\n"
   ]
  },
  {
   "cell_type": "code",
   "execution_count": 80,
   "metadata": {},
   "outputs": [
    {
     "name": "stdout",
     "output_type": "stream",
     "text": [
      "\n",
      "Employee Name: Amy; Employee Address: 100 W Campbell Road, Richardson, Texas, 75080\n",
      "Make: Honda; Model: Civic; Year of Manufacture: 2012; Mileage: 50000\n",
      "Amy lives at 100 W Campbell Road, Richardson, Texas, 75080.\n",
      "Amy owns a Honda Civic vehicle.\n",
      "Amy lives at 800 E Campbell Road, Richardson, Texas, 75080.\n"
     ]
    }
   ],
   "source": [
    "emp1=Employee(\"Amy\", \"100 W Campbell Road, Richardson, Texas, 75080\",vehicle1)\n",
    "print(emp1)\n",
    "print(\"{0} lives at {1}.\".format(emp1.get_emp_name(),emp1.get_emp_addr()))\n",
    "print(\"{0} owns a {1} {2} vehicle.\".format(emp1.get_emp_name(),emp1.get_vehicle().get_make(),emp1.get_vehicle().get_model()))\n",
    "emp1.set_emp_addr(\"800 E Campbell Road, Richardson, Texas, 75080\")\n",
    "print(\"{0} lives at {1}.\".format(emp1.get_emp_name(),emp1.get_emp_addr()))"
   ]
  },
  {
   "cell_type": "code",
   "execution_count": 97,
   "metadata": {},
   "outputs": [],
   "source": [
    "#defining Full Time Employee class here\n",
    "\n",
    "class FullTimeEmployee(Employee):\n",
    "    def __init__(self, nm, addr, veh, sal):\n",
    "        Employee.__init__(self,nm, addr, veh)\n",
    "        self.__salary = sal\n",
    "    def get_salary(self):\n",
    "        return self.__salary\n",
    "    def set_salary(self, sal):\n",
    "        self.__salary = sal\n",
    "    def compute_compensation(self):\n",
    "        if self.__salary <= 45000:\n",
    "            annual_compensation = self.__salary * (1 - 0.18)\n",
    "        elif self.__salary <= 82000:\n",
    "            annual_compensation = (self.__salary - 45000) * (1 - 0.28) + 36900\n",
    "        else:\n",
    "            annual_compensation = (self.__salary - 82000) * (1 - 0.33) + 63540\n",
    "        return (annual_compensation/52)\n",
    "    def compute_reimbursement(self,ae):\n",
    "            if ae <= 10000:\n",
    "                 self.__re = ae/52\n",
    "            else:\n",
    "                 self.__re = (10000+(0.05*(ae-10000)))/52\n",
    "            return self.__re\n",
    "    def __str__(self):\n",
    "        childData = super().__str__()\n",
    "        childData = \"\\nDetails of this Full Time Employee are:\" + childData\n",
    "        childData += \"\\nSalary: \" + '{0:0.2f}'.format(self.__salary)\n",
    "        return childData"
   ]
  },
  {
   "cell_type": "code",
   "execution_count": 98,
   "metadata": {},
   "outputs": [
    {
     "name": "stdout",
     "output_type": "stream",
     "text": [
      "\n",
      "Details of this Full Time Employee are:\n",
      "Employee Name: Amy; Employee Address: 100 W Campbell Road, Richardson, Texas, 75080\n",
      "Make: Honda; Model: Civic; Year of Manufacture: 2012; Mileage: 50000\n",
      "Salary: 40000.00\n",
      "Amy has an annual salary of $40000.\n",
      "Amy has a weekly compensation of $630.77.\n",
      "Amy has a weekly reimbursement of $194.23.\n",
      "Amy has an annual salary of $50000.\n"
     ]
    }
   ],
   "source": [
    "emp2=FullTimeEmployee(\"Amy\", \"100 W Campbell Road, Richardson, Texas, 75080\", vehicle1, 40000)\n",
    "print(emp2)\n",
    "print(\"{0} has an annual salary of ${1}.\".format(emp2.get_emp_name(),emp2.get_salary()))\n",
    "print(\"{0} has a weekly compensation of ${1:0.2f}.\".format(emp2.get_emp_name(),emp2.compute_compensation()))\n",
    "print(\"{0} has a weekly reimbursement of ${1:0.2f}.\".format(emp2.get_emp_name(),emp2.compute_reimbursement(12000)))\n",
    "emp2.set_salary(50000)\n",
    "print(\"{0} has an annual salary of ${1}.\".format(emp2.get_emp_name(),emp2.get_salary()))\n"
   ]
  },
  {
   "cell_type": "code",
   "execution_count": 1,
   "metadata": {},
   "outputs": [
    {
     "ename": "NameError",
     "evalue": "name 'Employee' is not defined",
     "output_type": "error",
     "traceback": [
      "\u001b[1;31m---------------------------------------------------------------------------\u001b[0m",
      "\u001b[1;31mNameError\u001b[0m                                 Traceback (most recent call last)",
      "\u001b[1;32m<ipython-input-1-4a85da9e91aa>\u001b[0m in \u001b[0;36m<module>\u001b[1;34m\u001b[0m\n\u001b[0;32m      6\u001b[0m \u001b[1;31m#no need to handle exceptions here\u001b[0m\u001b[1;33m\u001b[0m\u001b[1;33m\u001b[0m\u001b[1;33m\u001b[0m\u001b[0m\n\u001b[0;32m      7\u001b[0m \u001b[1;33m\u001b[0m\u001b[0m\n\u001b[1;32m----> 8\u001b[1;33m \u001b[1;32mclass\u001b[0m \u001b[0mHourlyEmployee\u001b[0m\u001b[1;33m(\u001b[0m\u001b[0mEmployee\u001b[0m\u001b[1;33m)\u001b[0m\u001b[1;33m:\u001b[0m\u001b[1;33m\u001b[0m\u001b[1;33m\u001b[0m\u001b[0m\n\u001b[0m\u001b[0;32m      9\u001b[0m     \u001b[1;32mdef\u001b[0m \u001b[0m__init__\u001b[0m\u001b[1;33m(\u001b[0m\u001b[0mself\u001b[0m\u001b[1;33m,\u001b[0m \u001b[0mnm\u001b[0m\u001b[1;33m,\u001b[0m \u001b[0maddr\u001b[0m\u001b[1;33m,\u001b[0m \u001b[0mveh\u001b[0m\u001b[1;33m,\u001b[0m \u001b[0mhw\u001b[0m\u001b[1;33m,\u001b[0m \u001b[0mhr\u001b[0m\u001b[1;33m)\u001b[0m\u001b[1;33m:\u001b[0m\u001b[1;33m\u001b[0m\u001b[1;33m\u001b[0m\u001b[0m\n\u001b[0;32m     10\u001b[0m         \u001b[0mEmployee\u001b[0m\u001b[1;33m.\u001b[0m\u001b[0m__init__\u001b[0m\u001b[1;33m(\u001b[0m\u001b[0mself\u001b[0m\u001b[1;33m,\u001b[0m\u001b[0mnm\u001b[0m\u001b[1;33m,\u001b[0m \u001b[0maddr\u001b[0m\u001b[1;33m,\u001b[0m \u001b[0mveh\u001b[0m\u001b[1;33m)\u001b[0m\u001b[1;33m\u001b[0m\u001b[1;33m\u001b[0m\u001b[0m\n",
      "\u001b[1;31mNameError\u001b[0m: name 'Employee' is not defined"
     ]
    }
   ],
   "source": [
    "#defining Hourly Employee class here\n",
    "\n",
    "class HourlyEmployee(Employee):\n",
    "    def __init__(self, nm, addr, veh, hw, hr):\n",
    "        Employee.__init__(self,nm, addr, veh)\n",
    "        self.__hours_wrkd = hw\n",
    "        self.__hourly_rate = hr\n",
    "    def get_hours_worked(self):\n",
    "        return self.__hours_wrkd\n",
    "    def get_hourly_rate(self):\n",
    "        return self.__hourly_rate\n",
    "    def set_hours_worked(self, hw):\n",
    "        self.__hours_wrkd = hw\n",
    "    def set_hourly_rate(self, hr):\n",
    "        self.__hourly_rate = hr\n",
    "    def compute_compensation(self):\n",
    "        if self.__hours_wrkd > 40:\n",
    "            return self.__hourly_rate * 40 + self.__hourly_rate * 1.8 * (self.__hours_wrkd - 40)\n",
    "        else:\n",
    "            return self.__hourly_rate * self.__hours_wrkd\n",
    "    def compute_reimbursement(self,we):\n",
    "            if we <= 100:\n",
    "                 self.__we = we\n",
    "            else:\n",
    "                 self.__we = 100\n",
    "            return self.__we\n",
    "    def __str__(self):\n",
    "        childData = super().__str__()\n",
    "        childData = \"\\nDetails of this Hourly Employee are:\" + childData\n",
    "        childData += \"\\nHours Worked: \" + str(self.__hours_wrkd)\n",
    "        childData += \"; Hourly Rate: \" + str(self.__hourly_rate)\n",
    "        return childData"
   ]
  },
  {
   "cell_type": "code",
   "execution_count": 100,
   "metadata": {},
   "outputs": [
    {
     "name": "stdout",
     "output_type": "stream",
     "text": [
      "\n",
      "Details of this Hourly Employee are:\n",
      "Employee Name: Grace; Employee Address: 400 W Campbell Road, Richardson, Texas, 75080\n",
      "Make: Honda; Model: Civic; Year of Manufacture: 2012; Mileage: 50000\n",
      "Hours Worked: 50; Hourly Rate: 20\n",
      "Grace works 50 hours per week at an hourly rate of $20.\n",
      "Grace has a weekly compensation of $1160.00.\n",
      "Grace has a weekly reimbursement of $100.00.\n",
      "Grace works 50 hours per week at an hourly rate of $22.\n"
     ]
    }
   ],
   "source": [
    "emp3=HourlyEmployee(\"Grace\", \"400 W Campbell Road, Richardson, Texas, 75080\", vehicle1,50,20)\n",
    "print(emp3)\n",
    "print(\"{0} works {1} hours per week at an hourly rate of ${2}.\".format(emp3.get_emp_name(),emp3.get_hours_worked(),emp3.get_hourly_rate()))\n",
    "print(\"{0} has a weekly compensation of ${1:0.2f}.\".format(emp3.get_emp_name(),emp3.compute_compensation()))\n",
    "print(\"{0} has a weekly reimbursement of ${1:0.2f}.\".format(emp3.get_emp_name(),emp3.compute_reimbursement(120)))\n",
    "emp3.set_hourly_rate(22)\n",
    "print(\"{0} works {1} hours per week at an hourly rate of ${2}.\".format(emp3.get_emp_name(),emp3.get_hours_worked(),emp3.get_hourly_rate()))\n"
   ]
  },
  {
   "cell_type": "code",
   "execution_count": 204,
   "metadata": {},
   "outputs": [],
   "source": [
    "#defining Consultant class here\n",
    "\n",
    "class Consultant(Employee):\n",
    "    def __init__(self, nm, addr, veh, hw, pt):\n",
    "        Employee.__init__(self, nm, addr, veh)\n",
    "        self.__hours_wrkd = hw\n",
    "        self.__project_type = pt\n",
    "    def get_hours_worked(self):\n",
    "        return self.__hours_wrkd\n",
    "    def get_project_type(self):\n",
    "        return self.__project_type\n",
    "    def set_hours_worked(self, hw):\n",
    "        self.__hours_wrkd = hw\n",
    "    def set_project_type(self, pt):\n",
    "        self.__project_type = pt\n",
    "    def compute_compensation(self):\n",
    "        if self.__project_type == 1:\n",
    "            hrly_rate = 55\n",
    "        elif self.__project_type == 2:\n",
    "            hrly_rate = 70\n",
    "        else:\n",
    "            hrly_rate = 85\n",
    "        return self.__hours_wrkd * hrly_rate\n",
    "    def compute_reimbursement(self,we):\n",
    "            if self.__project_type == 1:\n",
    "                 self.__we = we\n",
    "            elif self.__project_type == 2:\n",
    "                 self.__we = 0.9*we\n",
    "            elif self.__project_type == 3:\n",
    "                 self.__we = 0.8*we   \n",
    "            return self.__we\n",
    "    def __str__(self):\n",
    "        childData = super().__str__()\n",
    "        childData = \"\\nDetails of this Consultant are:\" + childData\n",
    "        childData += \"\\nHours Worked: \" + str(self.__hours_wrkd)\n",
    "        childData += \"; Project Type: \" + str(self.__project_type)\n",
    "        return childData"
   ]
  },
  {
   "cell_type": "code",
   "execution_count": 205,
   "metadata": {},
   "outputs": [
    {
     "name": "stdout",
     "output_type": "stream",
     "text": [
      "\n",
      "Details of this Consultant are:\n",
      "Employee Name: Michael; Employee Address: 700 W Campbell Road, Richardson, Texas, 75080\n",
      "Make: Honda; Model: Civic; Year of Manufacture: 2012; Mileage: 50000\n",
      "Hours Worked: 40; Project Type: 2\n",
      "Michael works 40 hours per week for type 2 project.\n",
      "Michael has a weekly compensation of $2800.00.\n",
      "Michael has a weekly reimbursement of $270.00.\n",
      "Michael works 35 hours per week for type 2 project.\n"
     ]
    }
   ],
   "source": [
    "emp4=Consultant(\"Michael\", \"700 W Campbell Road, Richardson, Texas, 75080\",vehicle1,40,2)\n",
    "print(emp4)\n",
    "print(\"{0} works {1} hours per week for type {2} project.\".format(emp4.get_emp_name(),emp4.get_hours_worked(),emp4.get_project_type()))\n",
    "print(\"{0} has a weekly compensation of ${1:0.2f}.\".format(emp4.get_emp_name(),emp4.compute_compensation()))\n",
    "print(\"{0} has a weekly reimbursement of ${1:0.2f}.\".format(emp4.get_emp_name(),emp4.compute_reimbursement(300)))\n",
    "emp4.set_hours_worked(35)\n",
    "print(\"{0} works {1} hours per week for type {2} project.\".format(emp4.get_emp_name(),emp4.get_hours_worked(),emp4.get_project_type()))\n"
   ]
  },
  {
   "cell_type": "code",
   "execution_count": 202,
   "metadata": {},
   "outputs": [],
   "source": [
    "#defining Management class here\n",
    "\n",
    "class Management(FullTimeEmployee,Consultant):\n",
    "    def __init__(self,nm,adr,veh,sal,hw,pt):\n",
    "        Employee.__init__(self,nm,adr,veh)\n",
    "        FullTimeEmployee.__init__(self,nm,adr,veh,sal)\n",
    "        Consultant.__init__(self,nm,adr,veh,hw,pt)      \n",
    "    def compute_compensation(self):\n",
    "        self.__comp= (FullTimeEmployee.compute_compensation(self)+Consultant.compute_compensation(self))\n",
    "        return self.__comp\n",
    "    def compute_reimbursement(self, ae, we):\n",
    "        self.__reim= (FullTimeEmployee.compute_reimbursement(self,ae)+Consultant.compute_reimbursement(self,we))\n",
    "        return self.__reim\n",
    "    def __str__(self):\n",
    "        childData = \"\\nDetails of this Management are: \\n\" +\"Employee Name: \"+(self.get_emp_name())+\"; Employee Address: \"+(self.get_emp_addr())+\"\\n\"+str(self.get_vehicle())+\"\\nSalary: \" +str(self.get_salary())+ \"; Hours Worked: \"+str(self.get_hours_worked())+\"; Project Type: \"+str(self.get_project_type())\n",
    "        return childData\n",
    "\n"
   ]
  },
  {
   "cell_type": "code",
   "execution_count": 203,
   "metadata": {},
   "outputs": [
    {
     "name": "stdout",
     "output_type": "stream",
     "text": [
      "\n",
      "Details of this Management are: \n",
      "Employee Name: Jane; Employee Address: 1000 W Campbell Road, Richardson, Texas, 75080\n",
      "Make: Honda; Model: Civic; Year of Manufacture: 2012; Mileage: 50000\n",
      "Salary: 120000; Hours Worked: 10; Project Type: 3\n",
      "\n",
      "\n",
      "Jane has an annual salary of $120000.\n",
      "Jane works 10 hours per week for type 3 project.\n",
      "Jane has a weekly compensation of $2561.54.\n",
      "Jane has a weekly reimbursement of $393.85.\n"
     ]
    }
   ],
   "source": [
    "emp5=Management(\"Jane\", \"1000 W Campbell Road, Richardson, Texas, 75080\",vehicle1,120000,10,3)\n",
    "print(emp5)\n",
    "print(\"\\n\")\n",
    "print(\"{0} has an annual salary of ${1}.\".format(emp5.get_emp_name(),emp5.get_salary()))\n",
    "print(\"{0} works {1} hours per week for type {2} project.\".format(emp5.get_emp_name(),emp5.get_hours_worked(),emp5.get_project_type()))\n",
    "print(\"{0} has a weekly compensation of ${1:0.2f}.\".format(emp5.get_emp_name(),emp5.compute_compensation()))\n",
    "print(\"{0} has a weekly reimbursement of ${1:0.2f}.\".format(emp5.get_emp_name(),emp5.compute_reimbursement(8000,300)))\n"
   ]
  },
  {
   "cell_type": "code",
   "execution_count": 107,
   "metadata": {},
   "outputs": [],
   "source": [
    "#get_emp_input() function to prepare for the main menu application\n",
    "\n",
    "def get_emp_input():\n",
    "    name = input(\"Enter the name of the employee\")\n",
    "    address = input(\"Enter the address of the employee\")\n",
    "    return name, address"
   ]
  },
  {
   "cell_type": "code",
   "execution_count": 109,
   "metadata": {},
   "outputs": [
    {
     "name": "stdout",
     "output_type": "stream",
     "text": [
      "Enter the name of the employeebob\n",
      "Enter the address of the employeecampbell\n",
      "bob lives at campbell.\n"
     ]
    }
   ],
   "source": [
    "#example input: Bob; 350 E Campbell Road, Richardson, Texas, 75080\n",
    "name, address=get_emp_input()\n",
    "print(\"{0} lives at {1}.\".format(name,address))"
   ]
  },
  {
   "cell_type": "code",
   "execution_count": 110,
   "metadata": {},
   "outputs": [],
   "source": [
    "#get_vehicle_input() function to prepare for the main menu application\n",
    "#this function is used to ask for vehicle information and then return them: make,model,year,mileage\n",
    "#this function doesn't take arguement(s)\n",
    "\n",
    "def get_vehicle_input():\n",
    "    veh_make = input('Enter the vehicle make: ')\n",
    "    veh_model = input('Enter the vehicle model: ')\n",
    "    while(True):\n",
    "        try:\n",
    "            veh_yr = int(input('Enter the manufacturing year in this format (yyyy): '))\n",
    "            if veh_yr < 1900 or veh_yr > 2020: \n",
    "                raise ValueError\n",
    "            break\n",
    "        except ValueError:\n",
    "                print('Please enter an integer value for year in the format of yyyy between 1900 and 2020.') \n",
    "\n",
    "    while(True):\n",
    "        try:       \n",
    "            veh_mil = int(input('Enter the vehicle mileage: '))\n",
    "            if veh_mil < 0:\n",
    "                raise ValueError\n",
    "            break\n",
    "        except ValueError:\n",
    "                print('Please enter a positive number for mileage.') \n",
    "\n",
    "    return (veh_make, veh_model, veh_yr, veh_mil)"
   ]
  },
  {
   "cell_type": "code",
   "execution_count": 111,
   "metadata": {},
   "outputs": [
    {
     "name": "stdout",
     "output_type": "stream",
     "text": [
      "Enter the vehicle make: Ford\n",
      "Enter the vehicle model: Ranger\n",
      "Enter the manufacturing year in this format (yyyy): 2021\n",
      "Please enter an integer value for year in the format of yyyy between 1900 and 2020.\n",
      "Enter the manufacturing year in this format (yyyy): 2012\n",
      "Enter the vehicle mileage: 20000\n",
      "The vehicle entered is a Ford Ranger made in 2012 with 20000 mileage curently.\n"
     ]
    }
   ],
   "source": [
    "#example input:Ford; Ranger; 2021 (when asked to enter again enter 2011); 80000\n",
    "vehiclemake, vehiclemodel, vehicleyear, vehiclemileage = get_vehicle_input()  \n",
    "print(\"The vehicle entered is a {0} {1} made in {2} with {3} mileage curently.\".format(vehiclemake, vehiclemodel, vehicleyear, vehiclemileage))"
   ]
  },
  {
   "cell_type": "code",
   "execution_count": 112,
   "metadata": {},
   "outputs": [],
   "source": [
    "#get_full_time_input() function to prepare for the main menu application\n",
    "#this function is used to ask for specific information of full time employees and then return it: annual salary\n",
    "def get_full_time_input():\n",
    "    salary = float(input(\"Enter the salary of the full tiime employee\"))\n",
    "    return salary"
   ]
  },
  {
   "cell_type": "code",
   "execution_count": 113,
   "metadata": {},
   "outputs": [
    {
     "name": "stdout",
     "output_type": "stream",
     "text": [
      "Enter the salary of the full tiime employee80000\n",
      "The annual salary entered is 80000.00\n"
     ]
    }
   ],
   "source": [
    "#example input:80000\n",
    "salary=get_full_time_input()\n",
    "print(\"The annual salary entered is {0:0.2f}\".format(salary))"
   ]
  },
  {
   "cell_type": "code",
   "execution_count": 114,
   "metadata": {},
   "outputs": [],
   "source": [
    "#get_hourly_input() function to prepare for the main menu application\n",
    "#this function is used to ask for specific information of hourly employees and then return them: hours worked, hourly rate\n",
    "\n",
    "def get_hourly_input():\n",
    "    hr_worked = int(input(\"Enter the number of hours worked by the hourly employee\"))\n",
    "    hr_rate = float(input(\"Enter the hourly rate of the employee\"))\n",
    "    return hr_worked, hr_rate"
   ]
  },
  {
   "cell_type": "code",
   "execution_count": 115,
   "metadata": {},
   "outputs": [
    {
     "name": "stdout",
     "output_type": "stream",
     "text": [
      "Enter the number of hours worked by the hourly employee30\n",
      "Enter the hourly rate of the employee20\n",
      "This hourly employee works 30 hours per week at an hourly rate of $20.00\n"
     ]
    }
   ],
   "source": [
    "#example input: 30; 20\n",
    "hours_worked, hourly_rate = get_hourly_input()\n",
    "print(\"This hourly employee works {0} hours per week at an hourly rate of ${1:0.2f}\".format(hours_worked,hourly_rate))"
   ]
  },
  {
   "cell_type": "code",
   "execution_count": 116,
   "metadata": {},
   "outputs": [],
   "source": [
    "# get_consultant_input() function to prepare for the main menu application\n",
    "#this function is used to ask for specific information of consultants and then return them: hours worked, project type\n",
    "\n",
    "def get_consultant_input():\n",
    "    hr_worked = int(input(\"Enter the number of hours worked by the consultant\"))\n",
    "    pj_type = int(input(\"Enter the project type of the consultant\"))\n",
    "    return hr_worked, pj_type"
   ]
  },
  {
   "cell_type": "code",
   "execution_count": 117,
   "metadata": {},
   "outputs": [
    {
     "name": "stdout",
     "output_type": "stream",
     "text": [
      "Enter the number of hours worked by the consultant40\n",
      "Enter the project type of the consultant2\n",
      "This consultant works 40 hours per week for type 2 project.\n"
     ]
    }
   ],
   "source": [
    "#example input: 40; 2\n",
    "hours_worked, project_type = get_consultant_input()\n",
    "print(\"This consultant works {0} hours per week for type {1} project.\".format(hours_worked,project_type))"
   ]
  },
  {
   "cell_type": "code",
   "execution_count": 118,
   "metadata": {},
   "outputs": [],
   "source": [
    "#get_management_input() function to prepare for the main menu application\n",
    "#this function is used to ask for specific information of managements and then return them: annual salary, hours worked, project type\n",
    "\n",
    "def get_management_input():\n",
    "    an_sal = float(input(\"Enter the annual salary of the employee\"))\n",
    "    hr_worked = int(input(\"Enter the number of hours worked by the employee\"))\n",
    "    pj_type = int(input(\"Enter the project type of the employee\"))\n",
    "    return an_sal, hr_worked, pj_type"
   ]
  },
  {
   "cell_type": "code",
   "execution_count": 119,
   "metadata": {},
   "outputs": [
    {
     "name": "stdout",
     "output_type": "stream",
     "text": [
      "Enter the annual salary of the employee100000\n",
      "Enter the number of hours worked by the employee8\n",
      "Enter the project type of the employee3\n",
      "This management has an annual salary of $100000.00. This management also works 8 hours per week additionally for type 3 project.\n"
     ]
    }
   ],
   "source": [
    "#example input: 100000; 8; 3\n",
    "salary, hours_worked, project_type = get_management_input()\n",
    "print(\"This management has an annual salary of ${0:0.2f}. This management also works {1} hours per week additionally for type {2} project.\".format(salary, hours_worked,project_type))"
   ]
  },
  {
   "cell_type": "code",
   "execution_count": 136,
   "metadata": {},
   "outputs": [],
   "source": [
    "#read_file_data() function to prepare for the main menu application\n",
    "#this function is used to read information from an existing databse/binary file, which is empdata.dat in the final exam\n",
    "\n",
    "import pickle\n",
    "def read_file_data():\n",
    "    with open('empdata.dat', 'rb') as f:\n",
    "        emp_list =[]\n",
    "        while(1):\n",
    "            try:\n",
    "                emp_list.append(pickle.load(f))\n",
    "            except EOFError:\n",
    "                break\n",
    "            except:\n",
    "                pass\n",
    "    return emp_list"
   ]
  },
  {
   "cell_type": "code",
   "execution_count": 137,
   "metadata": {},
   "outputs": [
    {
     "name": "stdout",
     "output_type": "stream",
     "text": [
      "There are 9 employees stored in the database.\n",
      "\n",
      "Below is the information of the first employee in the database: \n",
      "Details of this Full Time Employee are:\n",
      "Employee Name: Amy; Employee Address: 100 W Campbell Road, Richardson, Texas, 75080\n",
      "Make: Honda; Model: Civic; Year of Manufacture: 2014; Mileage: 50000\n",
      "Salary: 40000.00\n",
      "\n",
      "Amy is the first employee.\n"
     ]
    }
   ],
   "source": [
    "emp_list=read_file_data()\n",
    "print(\"There are {} employees stored in the database.\".format(len(emp_list)))\n",
    "print(\"\\nBelow is the information of the first employee in the database: {}\".format(emp_list[0]))\n",
    "print(\"\\n{} is the first employee.\".format(emp_list[0].get_emp_name()))"
   ]
  },
  {
   "cell_type": "code",
   "execution_count": 138,
   "metadata": {},
   "outputs": [],
   "source": [
    "#the idea is to walk through users to input required information\n",
    "#the first and foremost step is to ask for emloyee type\n",
    "#this function prints the entered object and also returns the entered object\n",
    "\n",
    "def run_option1():\n",
    "    while(1):\n",
    "        try:\n",
    "            emp_type = int(input(\"Enter the employee type(1-Full Time;2-Hourly;3-Consultant;4-Management)\"))\n",
    "            if emp_type<1 or emp_type>4:\n",
    "                raise ValueError\n",
    "            else:\n",
    "                break\n",
    "        except ValueError:\n",
    "            print(\"Please select an option from 1, 2, 3, and 4\")\n",
    "           \n",
    "    name, address = get_emp_input()\n",
    "    \n",
    "    vehiclemake, vehiclemodel, vehicleyear, vehiclemileage = get_vehicle_input()    \n",
    "    \n",
    "    a_vehicle = Vehicle(vehiclemake, vehiclemodel, vehicleyear, vehiclemileage)\n",
    "\n",
    "    if emp_type == 1:\n",
    "        sal = get_full_time_input()\n",
    "        an_emp = FullTimeEmployee(name, address, a_vehicle,sal)\n",
    "    elif emp_type == 2:\n",
    "        hw, hr = get_hourly_input()\n",
    "        an_emp = HourlyEmployee(name, address, a_vehicle, hw, hr)\n",
    "    elif emp_type == 3:\n",
    "        hw, pt = get_consultant_input()\n",
    "        an_emp = Consultant(name, address, a_vehicle, hw, pt)\n",
    "    elif emp_type ==4:\n",
    "        sal, hw, pt = get_management_input()\n",
    "        an_emp = Management(name, address, a_vehicle, sal, hw, pt)\n",
    "    \n",
    "    print(an_emp)\n",
    "    \n",
    "    print(\"\\n============================================================\")        \n",
    "    print(\"New employee entered successfully! Now going to the main menu.\")\n",
    "    print(\"==============================================================\")     \n",
    "    return an_emp    \n"
   ]
  },
  {
   "cell_type": "code",
   "execution_count": 139,
   "metadata": {},
   "outputs": [
    {
     "name": "stdout",
     "output_type": "stream",
     "text": [
      "Enter the employee type(1-Full Time;2-Hourly;3-Consultant;4-Management)4\n",
      "Enter the name of the employeeDavid\n",
      "Enter the address of the employee103 E Campbell Road, Richardson, Texas, 75080\n",
      "Enter the vehicle make: BMW\n",
      "Enter the vehicle model: X3\n",
      "Enter the manufacturing year in this format (yyyy): 2018\n",
      "Enter the vehicle mileage: 5000\n",
      "Enter the annual salary of the employee110000\n",
      "Enter the number of hours worked by the employee5\n",
      "Enter the project type of the employee2\n",
      "\n",
      "Details of this Management are: \n",
      "Employee Name: David; Employee Address: 103 E Campbell Road, Richardson, Texas, 75080\n",
      "Make: BMW; Model: X3; Year of Manufacture: 2018; Mileage: 5000\n",
      "Salary: 110000.0; Hours Worked: 5; Project Type: 2\n",
      "\n",
      "============================================================\n",
      "New employee entered successfully! Now going to the main menu.\n",
      "==============================================================\n"
     ]
    },
    {
     "data": {
      "text/plain": [
       "<__main__.Management at 0x1d0089cf8b0>"
      ]
     },
     "execution_count": 139,
     "metadata": {},
     "output_type": "execute_result"
    }
   ],
   "source": [
    "#example input: 5 (then zzz then 4); David; 103 E Campbell Road, Richardson, Texas, 75080; BMW; X3;2018;5000;110000;5;2\n",
    "run_option1()"
   ]
  },
  {
   "cell_type": "code",
   "execution_count": 141,
   "metadata": {},
   "outputs": [],
   "source": [
    "def run_option2(my_lst):\n",
    "    while(1):\n",
    "        try:\n",
    "            emp_count = int(input(\"Do you want to see information of all employees (input 1) or the first 5 employees (input 2)? \"))\n",
    "            if emp_count == 1 or emp_count==2:\n",
    "                break\n",
    "            else:\n",
    "                raise ValueError\n",
    "        except ValueError:\n",
    "            print(\"Please select option 1 or option 2\")\n",
    "    if emp_count == 1:\n",
    "        print(\"\\n============================================================\")        \n",
    "        print(\"Below is the information of all the employees stored in the database.\")\n",
    "        print(\"==============================================================\")\n",
    "        for i in range(0,len(my_lst)):\n",
    "            print(my_lst[i])\n",
    "    else:\n",
    "        if len(my_lst) >= 5:\n",
    "            print(\"\\n============================================================\")        \n",
    "            print(\"Below is the information of all the employees stored in the database.\")\n",
    "            print(\"==============================================================\")\n",
    "            for i in range(0,5):\n",
    "                print(my_lst[i])\n",
    "        else:\n",
    "            print(\"\\n============================================================\")        \n",
    "            print(\"Below is the information of all the employees stored in the database.\")\n",
    "            print(\"==============================================================\")\n",
    "            for i in range(0,len(my_lst)):\n",
    "                print(my_lst[i])\n",
    "            \n",
    "        \n",
    "        "
   ]
  },
  {
   "cell_type": "code",
   "execution_count": 142,
   "metadata": {
    "scrolled": true
   },
   "outputs": [
    {
     "name": "stdout",
     "output_type": "stream",
     "text": [
      "Do you want to see information of all employees (input 1) or the first 5 employees (input 2)? 3\n",
      "Please select option 1 or option 2\n",
      "Do you want to see information of all employees (input 1) or the first 5 employees (input 2)? zzz\n",
      "Please select option 1 or option 2\n",
      "Do you want to see information of all employees (input 1) or the first 5 employees (input 2)? 2\n",
      "\n",
      "============================================================\n",
      "Below is the information of all the employees stored in the database.\n",
      "==============================================================\n",
      "\n",
      "Details of this Full Time Employee are:\n",
      "Employee Name: Amy; Employee Address: 100 W Campbell Road, Richardson, Texas, 75080\n",
      "Make: Honda; Model: Civic; Year of Manufacture: 2014; Mileage: 50000\n",
      "Salary: 40000.00\n",
      "\n",
      "Details of this Full Time Employee are:\n",
      "Employee Name: Bob; Employee Address: 200 W Campbell Road, Richardson, Texas, 75080\n",
      "Make: Toyota; Model: Camry; Year of Manufacture: 2010; Mileage: 60000\n",
      "Salary: 80000.00\n",
      "\n",
      "Details of this Full Time Employee are:\n",
      "Employee Name: Evan; Employee Address: 300 W Campbell Road, Richardson, Texas, 75080\n",
      "Make: BMW; Model: X3; Year of Manufacture: 2016; Mileage: 30000\n",
      "Salary: 120000.00\n",
      "\n",
      "Details of this Hourly Employee are:\n",
      "Employee Name: Grace; Employee Address: 400 W Campbell Road, Richardson, Texas, 75080\n",
      "Make: Kia; Model: Rio; Year of Manufacture: 2005; Mileage: 150000\n",
      "Hours Worked: 50; Hourly Rate: 20\n",
      "\n",
      "Details of this Hourly Employee are:\n",
      "Employee Name: James; Employee Address: 500 W Campbell Road, Richardson, Texas, 75080\n",
      "Make: Mazda; Model: Mazda3; Year of Manufacture: 2010; Mileage: 80000\n",
      "Hours Worked: 30; Hourly Rate: 25\n"
     ]
    }
   ],
   "source": [
    "run_option2(emp_list)"
   ]
  },
  {
   "cell_type": "code",
   "execution_count": 143,
   "metadata": {},
   "outputs": [],
   "source": [
    "def run_option3(my_lst):\n",
    "    print(\"\\nEmployee name and Compensation of all Employees\")\n",
    "    print(\"=================================================\")\n",
    "    for i in range(0,len(my_lst)):\n",
    "        print(\"{0}'s weekly compensations is ${1:0.2f}\".format(my_lst[i].get_emp_name(),my_lst[i].compute_compensation()))\n"
   ]
  },
  {
   "cell_type": "code",
   "execution_count": 144,
   "metadata": {},
   "outputs": [
    {
     "name": "stdout",
     "output_type": "stream",
     "text": [
      "\n",
      "Employee name and Compensation of all Employees\n",
      "=================================================\n",
      "Amy's weekly compensations is $630.77\n",
      "Bob's weekly compensations is $1194.23\n",
      "Evan's weekly compensations is $1711.54\n",
      "Grace's weekly compensations is $1160.00\n",
      "James's weekly compensations is $750.00\n",
      "Luna's weekly compensations is $300.00\n",
      "Michael's weekly compensations is $2200.00\n",
      "Tom's weekly compensations is $3500.00\n",
      "Zoey's weekly compensations is $2550.00\n"
     ]
    }
   ],
   "source": [
    "run_option3(emp_list)"
   ]
  },
  {
   "cell_type": "code",
   "execution_count": 145,
   "metadata": {},
   "outputs": [],
   "source": [
    "def run_option4(my_lst):\n",
    "    ename_list = []\n",
    "    e_name = input(\"Please enter the name of the employee you want to search: \")\n",
    "    e_name=e_name.upper()\n",
    "    for i in range(0,len(my_lst)):\n",
    "        if my_lst[i].get_emp_name().upper() == e_name:\n",
    "            ename_list.append(my_lst[i])\n",
    "            \n",
    "    if len(ename_list) == 0:\n",
    "        print('There is no employee matching the name you entered.')\n",
    "        return ename_list\n",
    "    \n",
    "    print('==========================================================================')\n",
    "    print('Below is the information of all employees that match the name you entered.')\n",
    "    print('==========================================================================')\n",
    "    \n",
    "    for i in range(0, len(ename_list)):\n",
    "        print(ename_list[i])\n",
    "    return ename_list\n",
    "    "
   ]
  },
  {
   "cell_type": "code",
   "execution_count": 146,
   "metadata": {
    "scrolled": true
   },
   "outputs": [
    {
     "name": "stdout",
     "output_type": "stream",
     "text": [
      "Please enter the name of the employee you want to search: tom\n",
      "==========================================================================\n",
      "Below is the information of all employees that match the name you entered.\n",
      "==========================================================================\n",
      "\n",
      "Details of this Consultant are:\n",
      "Employee Name: Tom; Employee Address: 800 W Campbell Road, Richardson, Texas, 75080\n",
      "Make: Mercedes-Benz; Model: GLE350; Year of Manufacture: 2018; Mileage: 30000\n",
      "Hours Worked: 50; Project Type: 2\n",
      "\n",
      "There are 1 employees matching your search.\n"
     ]
    }
   ],
   "source": [
    "matched_emp_list=run_option4(emp_list)\n",
    "print(\"\\nThere are {} employees matching your search.\".format(len(matched_emp_list)))"
   ]
  },
  {
   "cell_type": "code",
   "execution_count": 147,
   "metadata": {},
   "outputs": [
    {
     "name": "stdout",
     "output_type": "stream",
     "text": [
      "Please enter the name of the employee you want to search: hongchang\n",
      "There is no employee matching the name you entered.\n"
     ]
    },
    {
     "data": {
      "text/plain": [
       "[]"
      ]
     },
     "execution_count": 147,
     "metadata": {},
     "output_type": "execute_result"
    }
   ],
   "source": [
    "run_option4(emp_list)"
   ]
  },
  {
   "cell_type": "code",
   "execution_count": 154,
   "metadata": {},
   "outputs": [],
   "source": [
    "def run_option5(my_lst):\n",
    "    emp_count = len(my_lst)\n",
    "    mean_comp = 0\n",
    "    max_comp = 0\n",
    "    count = 0\n",
    "    for i in range(0,len(my_lst)):\n",
    "        if my_lst[i].compute_compensation() > max_comp:\n",
    "            max_comp = my_lst[i].compute_compensation()\n",
    "        mean_comp += my_lst[i].compute_compensation()\n",
    "        if my_lst[i].get_vehicle().get_mileage() > 100000:\n",
    "            count += 1\n",
    "    print(\"There are {0} employees stored in this employee database.\".format(emp_count))\n",
    "    print(\"The highest weekly compensation is ${0:0.2f}.\".format(max_comp))\n",
    "    print(\"The mean weekly compensation is: ${0:0.2f}.\".format(mean_comp/emp_count))\n",
    "    print(\"The number of employees who have a vehicle with over 100,000 mileage is {0}.\".format(count))\n",
    "           \n",
    "    \n",
    "    "
   ]
  },
  {
   "cell_type": "code",
   "execution_count": 155,
   "metadata": {
    "scrolled": true
   },
   "outputs": [
    {
     "name": "stdout",
     "output_type": "stream",
     "text": [
      "There are 9 emplyees stored in this employee database.\n",
      "The highist weekly compensation is 3500.\n",
      "The mean weekly compensation is: 1555.1709401709402.\n",
      "The number of employees who have a vehicle with over 100,000 mileage is 2.\n"
     ]
    }
   ],
   "source": [
    "run_option5(emp_list)"
   ]
  },
  {
   "cell_type": "code",
   "execution_count": 174,
   "metadata": {},
   "outputs": [],
   "source": [
    "def run_option6(emp_list):\n",
    "    matched_list=run_option4(emp_list)\n",
    "    choice=int(input(\"Which employee do you want to check (enter a number)?\"))\n",
    "    emp_data=matched_list[choice-1]\n",
    "    if type(emp_data) is Consultant or type(emp_data) is HourlyEmployee:\n",
    "        exp = int(input('What is the weekly expense? '))\n",
    "        reimb = emp_data.compute_reimbursement(exp)\n",
    "    elif type(emp_data) is FullTimeEmployee:\n",
    "        exp = int(input('What is the annual expense? '))\n",
    "        reimb = emp_data.compute_reimbursement(exp)\n",
    "    else:\n",
    "        annual_exp = int(input('What is the annual expense? '))\n",
    "        week_exp = int(input('What is the weekly expense? '))\n",
    "        reimb = emp_data.compute_reimbursement(annual_exp, week_exp)\n",
    "        \n",
    "    print('\\n\\n############################################################')\n",
    "    print('This employee should have a weekly reimbursement of ${0:0.2f}.'.format(reimb))\n",
    "    "
   ]
  },
  {
   "cell_type": "code",
   "execution_count": 175,
   "metadata": {
    "scrolled": true
   },
   "outputs": [
    {
     "name": "stdout",
     "output_type": "stream",
     "text": [
      "Please enter the name of the employee you want to search: bob\n",
      "==========================================================================\n",
      "Below is the information of all employees that match the name you entered.\n",
      "==========================================================================\n",
      "\n",
      "Details of this Full Time Employee are:\n",
      "Employee Name: Bob; Employee Address: 200 W Campbell Road, Richardson, Texas, 75080\n",
      "Make: Toyota; Model: Camry; Year of Manufacture: 2010; Mileage: 60000\n",
      "Salary: 80000.00\n",
      "Which employee do you want to check (enter a number)?1\n",
      "What is the annual expense? 8000\n",
      "\n",
      "\n",
      "############################################################\n",
      "This employee should have a weekly reimbursement of $153.85.\n"
     ]
    }
   ],
   "source": [
    "\n",
    "run_option6(emp_list)"
   ]
  },
  {
   "cell_type": "code",
   "execution_count": 176,
   "metadata": {},
   "outputs": [
    {
     "name": "stdout",
     "output_type": "stream",
     "text": [
      "Please enter the name of the employee you want to search: james\n",
      "==========================================================================\n",
      "Below is the information of all employees that match the name you entered.\n",
      "==========================================================================\n",
      "\n",
      "Details of this Hourly Employee are:\n",
      "Employee Name: James; Employee Address: 500 W Campbell Road, Richardson, Texas, 75080\n",
      "Make: Mazda; Model: Mazda3; Year of Manufacture: 2010; Mileage: 80000\n",
      "Hours Worked: 30; Hourly Rate: 25\n",
      "Which employee do you want to check (enter a number)?1\n",
      "What is the weekly expense? 130\n",
      "\n",
      "\n",
      "############################################################\n",
      "This employee should have a weekly reimbursement of $100.00.\n"
     ]
    }
   ],
   "source": [
    "run_option6(emp_list)"
   ]
  },
  {
   "cell_type": "code",
   "execution_count": 177,
   "metadata": {},
   "outputs": [],
   "source": [
    "import pickle\n",
    "import sys\n",
    "def run_option7(my_lst):\n",
    "    print('You chose to exit the program')\n",
    "    userinp = input('Are you sure (Y/N)?')\n",
    "    if userinp =='Y' or userinp == 'y':\n",
    "        with open('empdata_updated.dat', 'wb') as file:\n",
    "            for i in range(0,len(my_lst)):\n",
    "                pickle.dump(my_lst[i], file)\n",
    "        print(\"\\n=================================\")\n",
    "        print(\"Program successfully being closed\")\n",
    "        print(\"=================================\")\n",
    "        sys.exit()\n",
    "    elif userinp != 'n' and userinp != 'N':\n",
    "        print(\"Your input doesn't match any valid option and has been considered as 'N'.\")\n",
    "        print(\"Going back to the selection menu.\")\n",
    "    else:\n",
    "        print(\"=================================\")\n",
    "        print(\"Going back to the selection menu.\")\n",
    "        print(\"=================================\")"
   ]
  },
  {
   "cell_type": "code",
   "execution_count": 178,
   "metadata": {},
   "outputs": [
    {
     "name": "stdout",
     "output_type": "stream",
     "text": [
      "You chose to exit the program\n",
      "Are you sure (Y/N)?b\n",
      "Your input doesn't match any valid option and has been considered as 'N'.\n",
      "Going back to the selection menu.\n"
     ]
    }
   ],
   "source": [
    "run_option7(emp_list)"
   ]
  },
  {
   "cell_type": "code",
   "execution_count": 179,
   "metadata": {},
   "outputs": [
    {
     "name": "stdout",
     "output_type": "stream",
     "text": [
      "You chose to exit the program\n",
      "Are you sure (Y/N)?n\n",
      "=================================\n",
      "Going back to the selection menu.\n",
      "=================================\n"
     ]
    }
   ],
   "source": [
    "run_option7(emp_list)"
   ]
  },
  {
   "cell_type": "code",
   "execution_count": 180,
   "metadata": {},
   "outputs": [
    {
     "name": "stdout",
     "output_type": "stream",
     "text": [
      "You chose to exit the program\n",
      "Are you sure (Y/N)?y\n",
      "\n",
      "=================================\n",
      "Program successfully being closed\n",
      "=================================\n"
     ]
    },
    {
     "ename": "SystemExit",
     "evalue": "",
     "output_type": "error",
     "traceback": [
      "An exception has occurred, use %tb to see the full traceback.\n",
      "\u001b[1;31mSystemExit\u001b[0m\n"
     ]
    },
    {
     "name": "stderr",
     "output_type": "stream",
     "text": [
      "C:\\Users\\Sindhu\\anaconda3\\lib\\site-packages\\IPython\\core\\interactiveshell.py:3426: UserWarning: To exit: use 'exit', 'quit', or Ctrl-D.\n",
      "  warn(\"To exit: use 'exit', 'quit', or Ctrl-D.\", stacklevel=1)\n"
     ]
    }
   ],
   "source": [
    "run_option7(emp_list)"
   ]
  },
  {
   "cell_type": "code",
   "execution_count": 196,
   "metadata": {},
   "outputs": [],
   "source": [
    "def run_menu_options():\n",
    "    #read employee objects in to a list\n",
    "    emp_list = read_file_data()\n",
    "    \n",
    "    sel = 1\n",
    "    while sel <=  7 and sel >= 1:\n",
    "        #display options\n",
    "        while True:\n",
    "            print(\"\\n==== Menu ====\")\n",
    "            print(\"1. To add an employee\")\n",
    "            print(\"2. To print the name and address of employees\")\n",
    "            print(\"3. To print the employee name and compensation of all employees\")\n",
    "            print(\"4. To search for employees by name\")\n",
    "            print(\"5. To check the basic statistics of employees\")\n",
    "            print(\"6. To calculate the reimbursement of one employee\")\n",
    "            print(\"7. To exit program\")\n",
    "        \n",
    "        #take selection input\n",
    "        \n",
    "            try:\n",
    "                sel=int(input('Your selection is:'))\n",
    "                if(sel<1 or sel>7):\n",
    "                    raise ValueError\n",
    "                break\n",
    "            except ValueError:\n",
    "                print('=====================================')\n",
    "                print('You must enter an integer between 1 and 7!')\n",
    "                print('=====================================')\n",
    "        \n",
    "        #execute selection\n",
    "        if sel == 1:\n",
    "            emp_list.append(run_option1())\n",
    "        elif sel == 2:\n",
    "            run_option2(emp_list)\n",
    "        elif sel == 3:\n",
    "            run_option3(emp_list)\n",
    "        elif sel == 4:\n",
    "            run_option4(emp_list)\n",
    "        elif sel == 5:\n",
    "            run_option5(emp_list)\n",
    "        elif sel == 6:\n",
    "            run_option6(emp_list)\n",
    "        elif sel == 7:  \n",
    "            run_option7(emp_list)\n",
    "        else:\n",
    "            print(\"Invalid choice!\")"
   ]
  },
  {
   "cell_type": "code",
   "execution_count": 197,
   "metadata": {
    "scrolled": false
   },
   "outputs": [
    {
     "name": "stdout",
     "output_type": "stream",
     "text": [
      "\n",
      "==== Menu ====\n",
      "1. To add an employee\n",
      "2. To print the name and address of employees\n",
      "3. To print the employee name and compensation of all employees\n",
      "4. To search for employees by name\n",
      "5. To check the basic statistics of employees\n",
      "6. To calculate the reimbursement of one employee\n",
      "7. To exit program\n",
      "Your selection is:y\n",
      "=====================================\n",
      "You must enter an integer between 1 and 7!\n",
      "=====================================\n",
      "\n",
      "==== Menu ====\n",
      "1. To add an employee\n",
      "2. To print the name and address of employees\n",
      "3. To print the employee name and compensation of all employees\n",
      "4. To search for employees by name\n",
      "5. To check the basic statistics of employees\n",
      "6. To calculate the reimbursement of one employee\n",
      "7. To exit program\n",
      "Your selection is:7\n",
      "You chose to exit the program\n",
      "Are you sure (Y/N)?y\n",
      "\n",
      "=================================\n",
      "Program successfully being closed\n",
      "=================================\n"
     ]
    },
    {
     "ename": "SystemExit",
     "evalue": "",
     "output_type": "error",
     "traceback": [
      "An exception has occurred, use %tb to see the full traceback.\n",
      "\u001b[1;31mSystemExit\u001b[0m\n"
     ]
    }
   ],
   "source": [
    "run_menu_options()"
   ]
  },
  {
   "cell_type": "code",
   "execution_count": 207,
   "metadata": {},
   "outputs": [
    {
     "name": "stdout",
     "output_type": "stream",
     "text": [
      "\n",
      "==== Menu ====\n",
      "1. To add an employee\n",
      "2. To print the name and address of employees\n",
      "3. To print the employee name and compensation of all employees\n",
      "4. To search for employees by name\n",
      "5. To check the basic statistics of employees\n",
      "6. To calculate the reimbursement of one employee\n",
      "7. To exit program\n",
      "Your selection is:2\n",
      "Do you want to see information of all employees (input 1) or the first 5 employees (input 2)? 1\n",
      "\n",
      "============================================================\n",
      "Below is the information of all the employees stored in the database.\n",
      "==============================================================\n",
      "\n",
      "Details of this Full Time Employee are:\n",
      "Employee Name: Amy; Employee Address: 100 W Campbell Road, Richardson, Texas, 75080\n",
      "Make: Honda; Model: Civic; Year of Manufacture: 2014; Mileage: 50000\n",
      "Salary: 40000.00\n",
      "\n",
      "Details of this Full Time Employee are:\n",
      "Employee Name: Bob; Employee Address: 200 W Campbell Road, Richardson, Texas, 75080\n",
      "Make: Toyota; Model: Camry; Year of Manufacture: 2010; Mileage: 60000\n",
      "Salary: 80000.00\n",
      "\n",
      "Details of this Full Time Employee are:\n",
      "Employee Name: Evan; Employee Address: 300 W Campbell Road, Richardson, Texas, 75080\n",
      "Make: BMW; Model: X3; Year of Manufacture: 2016; Mileage: 30000\n",
      "Salary: 120000.00\n",
      "\n",
      "Details of this Hourly Employee are:\n",
      "Employee Name: Grace; Employee Address: 400 W Campbell Road, Richardson, Texas, 75080\n",
      "Make: Kia; Model: Rio; Year of Manufacture: 2005; Mileage: 150000\n",
      "Hours Worked: 50; Hourly Rate: 20\n",
      "\n",
      "Details of this Hourly Employee are:\n",
      "Employee Name: James; Employee Address: 500 W Campbell Road, Richardson, Texas, 75080\n",
      "Make: Mazda; Model: Mazda3; Year of Manufacture: 2010; Mileage: 80000\n",
      "Hours Worked: 30; Hourly Rate: 25\n",
      "\n",
      "Details of this Hourly Employee are:\n",
      "Employee Name: Luna; Employee Address: 600 W Campbell Road, Richardson, Texas, 75080\n",
      "Make: Nissan; Model: Sentra; Year of Manufacture: 2005; Mileage: 160000\n",
      "Hours Worked: 20; Hourly Rate: 15\n",
      "\n",
      "Details of this Consultant are:\n",
      "Employee Name: Michael; Employee Address: 700 W Campbell Road, Richardson, Texas, 75080\n",
      "Make: Ford; Model: Ranger; Year of Manufacture: 2011; Mileage: 80000\n",
      "Hours Worked: 40; Project Type: 1\n",
      "\n",
      "Details of this Consultant are:\n",
      "Employee Name: Tom; Employee Address: 800 W Campbell Road, Richardson, Texas, 75080\n",
      "Make: Mercedes-Benz; Model: GLE350; Year of Manufacture: 2018; Mileage: 30000\n",
      "Hours Worked: 50; Project Type: 2\n",
      "\n",
      "Details of this Consultant are:\n",
      "Employee Name: Zoey; Employee Address: 900 W Campbell Road, Richardson, Texas, 75080\n",
      "Make: Tesla; Model: Model3; Year of Manufacture: 2018; Mileage: 15000\n",
      "Hours Worked: 30; Project Type: 3\n",
      "\n",
      "==== Menu ====\n",
      "1. To add an employee\n",
      "2. To print the name and address of employees\n",
      "3. To print the employee name and compensation of all employees\n",
      "4. To search for employees by name\n",
      "5. To check the basic statistics of employees\n",
      "6. To calculate the reimbursement of one employee\n",
      "7. To exit program\n",
      "Your selection is:3\n",
      "\n",
      "Employee name and Compensation of all Employees\n",
      "=================================================\n",
      "Amy's weekly compensations is $630.77\n",
      "Bob's weekly compensations is $1194.23\n",
      "Evan's weekly compensations is $1711.54\n",
      "Grace's weekly compensations is $1160.00\n",
      "James's weekly compensations is $750.00\n",
      "Luna's weekly compensations is $300.00\n",
      "Michael's weekly compensations is $2200.00\n",
      "Tom's weekly compensations is $3500.00\n",
      "Zoey's weekly compensations is $2550.00\n",
      "\n",
      "==== Menu ====\n",
      "1. To add an employee\n",
      "2. To print the name and address of employees\n",
      "3. To print the employee name and compensation of all employees\n",
      "4. To search for employees by name\n",
      "5. To check the basic statistics of employees\n",
      "6. To calculate the reimbursement of one employee\n",
      "7. To exit program\n",
      "Your selection is:3\n",
      "\n",
      "Employee name and Compensation of all Employees\n",
      "=================================================\n",
      "Amy's weekly compensations is $630.77\n",
      "Bob's weekly compensations is $1194.23\n",
      "Evan's weekly compensations is $1711.54\n",
      "Grace's weekly compensations is $1160.00\n",
      "James's weekly compensations is $750.00\n",
      "Luna's weekly compensations is $300.00\n",
      "Michael's weekly compensations is $2200.00\n",
      "Tom's weekly compensations is $3500.00\n",
      "Zoey's weekly compensations is $2550.00\n",
      "\n",
      "==== Menu ====\n",
      "1. To add an employee\n",
      "2. To print the name and address of employees\n",
      "3. To print the employee name and compensation of all employees\n",
      "4. To search for employees by name\n",
      "5. To check the basic statistics of employees\n",
      "6. To calculate the reimbursement of one employee\n",
      "7. To exit program\n",
      "Your selection is:4\n",
      "Please enter the name of the employee you want to search: grace\n",
      "==========================================================================\n",
      "Below is the information of all employees that match the name you entered.\n",
      "==========================================================================\n",
      "\n",
      "Details of this Hourly Employee are:\n",
      "Employee Name: Grace; Employee Address: 400 W Campbell Road, Richardson, Texas, 75080\n",
      "Make: Kia; Model: Rio; Year of Manufacture: 2005; Mileage: 150000\n",
      "Hours Worked: 50; Hourly Rate: 20\n",
      "\n",
      "==== Menu ====\n",
      "1. To add an employee\n",
      "2. To print the name and address of employees\n",
      "3. To print the employee name and compensation of all employees\n",
      "4. To search for employees by name\n",
      "5. To check the basic statistics of employees\n",
      "6. To calculate the reimbursement of one employee\n",
      "7. To exit program\n",
      "Your selection is:5\n",
      "There are 9 emplyees stored in this employee database.\n",
      "The highist weekly compensation is 3500.\n",
      "The mean weekly compensation is: 1555.1709401709402.\n",
      "The number of employees who have a vehicle with over 100,000 mileage is 2.\n",
      "\n",
      "==== Menu ====\n",
      "1. To add an employee\n",
      "2. To print the name and address of employees\n",
      "3. To print the employee name and compensation of all employees\n",
      "4. To search for employees by name\n",
      "5. To check the basic statistics of employees\n",
      "6. To calculate the reimbursement of one employee\n",
      "7. To exit program\n",
      "Your selection is:6\n",
      "Please enter the name of the employee you want to search: zoey\n",
      "==========================================================================\n",
      "Below is the information of all employees that match the name you entered.\n",
      "==========================================================================\n",
      "\n",
      "Details of this Consultant are:\n",
      "Employee Name: Zoey; Employee Address: 900 W Campbell Road, Richardson, Texas, 75080\n",
      "Make: Tesla; Model: Model3; Year of Manufacture: 2018; Mileage: 15000\n",
      "Hours Worked: 30; Project Type: 3\n",
      "Which employee do you want to check (enter a number)?1\n",
      "What is the weekly expense? 120\n",
      "\n",
      "\n",
      "############################################################\n",
      "This employee should have a weekly reimbursement of $96.00.\n",
      "\n",
      "==== Menu ====\n",
      "1. To add an employee\n",
      "2. To print the name and address of employees\n",
      "3. To print the employee name and compensation of all employees\n",
      "4. To search for employees by name\n",
      "5. To check the basic statistics of employees\n",
      "6. To calculate the reimbursement of one employee\n",
      "7. To exit program\n",
      "Your selection is:7\n",
      "You chose to exit the program\n",
      "Are you sure (Y/N)?y\n",
      "\n",
      "=================================\n",
      "Program successfully being closed\n",
      "=================================\n"
     ]
    },
    {
     "ename": "SystemExit",
     "evalue": "",
     "output_type": "error",
     "traceback": [
      "An exception has occurred, use %tb to see the full traceback.\n",
      "\u001b[1;31mSystemExit\u001b[0m\n"
     ]
    }
   ],
   "source": [
    "#step 1: choose option 1 three times and enter the following three employees (5 points)\n",
    "#type 4 employee: David; 103 E Campbell Road, Richardson, Texas, 75080; BMW; X3; 2018;5000;110000;5;2\n",
    "#type 4 employee: Grace; 105 E Campbell Road, Richardson, Texas, 75080; Porsche; Cayenne; 2019;3000;150000;8;1\n",
    "#type 4 employee: Zoey; 107 E Campbell Road, Richardson, Texas, 75080; Audi; A3; 2015;35000;90000;10;3\n",
    "\n",
    "#step 2: choose option 2\n",
    "#then choose 1\n",
    "\n",
    "#step 3:choose option 3 (5 points)\n",
    "\n",
    "#step 4:choose option 4 \n",
    "#then type in: grace (all lower cases)\n",
    "\n",
    "#step 5:choose option 5 (5 points)\n",
    "\n",
    "#step 6:choose option 6 (5 points)\n",
    "#then type in: ZOEY (all upper cases); then 1; then 120\n",
    "\n",
    "#step 7:choose option 7\n",
    "#then type in: y\n",
    "run_menu_options()"
   ]
  },
  {
   "cell_type": "code",
   "execution_count": null,
   "metadata": {},
   "outputs": [],
   "source": []
  }
 ],
 "metadata": {
  "kernelspec": {
   "display_name": "Python 3",
   "language": "python",
   "name": "python3"
  },
  "language_info": {
   "codemirror_mode": {
    "name": "ipython",
    "version": 3
   },
   "file_extension": ".py",
   "mimetype": "text/x-python",
   "name": "python",
   "nbconvert_exporter": "python",
   "pygments_lexer": "ipython3",
   "version": "3.8.5"
  }
 },
 "nbformat": 4,
 "nbformat_minor": 2
}
